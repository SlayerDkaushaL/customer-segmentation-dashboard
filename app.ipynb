{
 "cells": [
  {
   "cell_type": "code",
   "execution_count": 1,
   "id": "ce70b542",
   "metadata": {},
   "outputs": [
    {
     "name": "stdout",
     "output_type": "stream",
     "text": [
      "Requirement already satisfied: typing_extensions in c:\\users\\kaush\\anaconda3\\lib\\site-packages (4.5.0)\n",
      "Collecting typing_extensions\n",
      "  Downloading typing_extensions-4.14.0-py3-none-any.whl (43 kB)\n",
      "                                              0.0/43.8 kB ? eta -:--:--\n",
      "     ---------------------------------------- 43.8/43.8 kB 1.0 MB/s eta 0:00:00\n",
      "Installing collected packages: typing_extensions\n",
      "  Attempting uninstall: typing_extensions\n",
      "    Found existing installation: typing_extensions 4.5.0\n",
      "    Uninstalling typing_extensions-4.5.0:\n",
      "      Successfully uninstalled typing_extensions-4.5.0\n",
      "Successfully installed typing_extensions-4.14.0\n",
      "Note: you may need to restart the kernel to use updated packages.\n"
     ]
    },
    {
     "name": "stderr",
     "output_type": "stream",
     "text": [
      "ERROR: pip's dependency resolver does not currently take into account all the packages that are installed. This behaviour is the source of the following dependency conflicts.\n",
      "tensorflow-intel 2.13.0 requires typing-extensions<4.6.0,>=3.6.6, but you have typing-extensions 4.14.0 which is incompatible.\n"
     ]
    }
   ],
   "source": [
    "pip install --upgrade typing_extensions\n"
   ]
  },
  {
   "cell_type": "code",
   "execution_count": 2,
   "id": "b31c5f69",
   "metadata": {},
   "outputs": [
    {
     "name": "stdout",
     "output_type": "stream",
     "text": [
      "Requirement already satisfied: dash in c:\\users\\kaush\\anaconda3\\lib\\site-packages (3.0.4)\n",
      "Requirement already satisfied: Flask<3.1,>=1.0.4 in c:\\users\\kaush\\anaconda3\\lib\\site-packages (from dash) (2.2.2)\n",
      "Requirement already satisfied: Werkzeug<3.1 in c:\\users\\kaush\\anaconda3\\lib\\site-packages (from dash) (2.2.3)\n",
      "Requirement already satisfied: plotly>=5.0.0 in c:\\users\\kaush\\anaconda3\\lib\\site-packages (from dash) (5.9.0)\n",
      "Requirement already satisfied: importlib-metadata in c:\\users\\kaush\\anaconda3\\lib\\site-packages (from dash) (6.0.0)\n",
      "Requirement already satisfied: typing-extensions>=4.1.1 in c:\\users\\kaush\\anaconda3\\lib\\site-packages (from dash) (4.14.0)\n",
      "Requirement already satisfied: requests in c:\\users\\kaush\\anaconda3\\lib\\site-packages (from dash) (2.32.3)\n",
      "Requirement already satisfied: retrying in c:\\users\\kaush\\anaconda3\\lib\\site-packages (from dash) (1.3.4)\n",
      "Requirement already satisfied: nest-asyncio in c:\\users\\kaush\\anaconda3\\lib\\site-packages (from dash) (1.5.6)\n",
      "Requirement already satisfied: setuptools in c:\\users\\kaush\\anaconda3\\lib\\site-packages (from dash) (67.8.0)\n",
      "Requirement already satisfied: Jinja2>=3.0 in c:\\users\\kaush\\anaconda3\\lib\\site-packages (from Flask<3.1,>=1.0.4->dash) (3.1.2)\n",
      "Requirement already satisfied: itsdangerous>=2.0 in c:\\users\\kaush\\anaconda3\\lib\\site-packages (from Flask<3.1,>=1.0.4->dash) (2.0.1)\n",
      "Requirement already satisfied: click>=8.0 in c:\\users\\kaush\\anaconda3\\lib\\site-packages (from Flask<3.1,>=1.0.4->dash) (8.0.4)\n",
      "Requirement already satisfied: tenacity>=6.2.0 in c:\\users\\kaush\\anaconda3\\lib\\site-packages (from plotly>=5.0.0->dash) (8.2.2)\n",
      "Requirement already satisfied: MarkupSafe>=2.1.1 in c:\\users\\kaush\\anaconda3\\lib\\site-packages (from Werkzeug<3.1->dash) (2.1.1)\n",
      "Requirement already satisfied: zipp>=0.5 in c:\\users\\kaush\\anaconda3\\lib\\site-packages (from importlib-metadata->dash) (3.11.0)\n",
      "Requirement already satisfied: charset-normalizer<4,>=2 in c:\\users\\kaush\\anaconda3\\lib\\site-packages (from requests->dash) (2.0.4)\n",
      "Requirement already satisfied: idna<4,>=2.5 in c:\\users\\kaush\\anaconda3\\lib\\site-packages (from requests->dash) (3.4)\n",
      "Requirement already satisfied: urllib3<3,>=1.21.1 in c:\\users\\kaush\\anaconda3\\lib\\site-packages (from requests->dash) (1.26.16)\n",
      "Requirement already satisfied: certifi>=2017.4.17 in c:\\users\\kaush\\anaconda3\\lib\\site-packages (from requests->dash) (2025.4.26)\n",
      "Requirement already satisfied: six>=1.7.0 in c:\\users\\kaush\\anaconda3\\lib\\site-packages (from retrying->dash) (1.16.0)\n",
      "Requirement already satisfied: colorama in c:\\users\\kaush\\anaconda3\\lib\\site-packages (from click>=8.0->Flask<3.1,>=1.0.4->dash) (0.4.6)\n",
      "Note: you may need to restart the kernel to use updated packages.\n"
     ]
    }
   ],
   "source": [
    "pip install --upgrade dash\n"
   ]
  },
  {
   "cell_type": "code",
   "execution_count": 2,
   "id": "d4f6dc3e",
   "metadata": {},
   "outputs": [
    {
     "data": {
      "text/html": [
       "\n",
       "        <iframe\n",
       "            width=\"100%\"\n",
       "            height=\"650\"\n",
       "            src=\"http://127.0.0.1:8050/\"\n",
       "            frameborder=\"0\"\n",
       "            allowfullscreen\n",
       "            \n",
       "        ></iframe>\n",
       "        "
      ],
      "text/plain": [
       "<IPython.lib.display.IFrame at 0x23ddcbdd910>"
      ]
     },
     "metadata": {},
     "output_type": "display_data"
    }
   ],
   "source": [
    "import pandas as pd\n",
    "import plotly.express as px\n",
    "from dash import Dash, dcc, html, dash_table\n",
    "\n",
    "# Load RFM + Cluster Data\n",
    "rfm = pd.read_csv('rfm_data.csv')\n",
    "\n",
    "app = Dash(__name__)\n",
    "\n",
    "# Chart: Number of Customers per Cluster\n",
    "fig_cluster = px.bar(\n",
    "    rfm['Cluster'].value_counts().sort_index(),\n",
    "    labels={'value': 'Customer Count', 'index': 'Cluster'},\n",
    "    title='Customers per Cluster',\n",
    "    color_discrete_sequence=['teal']\n",
    ")\n",
    "\n",
    "# Box plots\n",
    "fig_recency = px.box(rfm, x='Cluster', y='Recency', title='Recency by Cluster')\n",
    "fig_frequency = px.box(rfm, x='Cluster', y='Frequency', title='Frequency by Cluster')\n",
    "fig_monetary = px.box(rfm, x='Cluster', y='Monetary', title='Monetary by Cluster')\n",
    "\n",
    "# Sample table\n",
    "sample_table = rfm.groupby('Cluster').head(5)\n",
    "\n",
    "# Layout\n",
    "app.layout = html.Div([\n",
    "    html.H1(\"Customer Segmentation Dashboard\", style={'textAlign': 'center'}),\n",
    "    \n",
    "    dcc.Graph(figure=fig_cluster),\n",
    "\n",
    "    html.Div([\n",
    "        dcc.Graph(figure=fig_recency),\n",
    "        dcc.Graph(figure=fig_frequency),\n",
    "        dcc.Graph(figure=fig_monetary)\n",
    "    ], style={'display': 'flex', 'flexWrap': 'wrap'}),\n",
    "\n",
    "    html.H2(\"Sample Customers by Cluster\"),\n",
    "    dash_table.DataTable(\n",
    "        data=sample_table.to_dict('records'),\n",
    "        columns=[{\"name\": i, \"id\": i} for i in sample_table.columns],\n",
    "        style_table={'overflowX': 'auto'},\n",
    "        page_size=10\n",
    "    )\n",
    "])\n",
    "\n",
    "if __name__ == '__main__':\n",
    "    app.run(debug=True)\n",
    "\n"
   ]
  },
  {
   "cell_type": "code",
   "execution_count": null,
   "id": "cec1f465",
   "metadata": {},
   "outputs": [],
   "source": []
  }
 ],
 "metadata": {
  "kernelspec": {
   "display_name": "Python 3 (ipykernel)",
   "language": "python",
   "name": "python3"
  },
  "language_info": {
   "codemirror_mode": {
    "name": "ipython",
    "version": 3
   },
   "file_extension": ".py",
   "mimetype": "text/x-python",
   "name": "python",
   "nbconvert_exporter": "python",
   "pygments_lexer": "ipython3",
   "version": "3.11.3"
  }
 },
 "nbformat": 4,
 "nbformat_minor": 5
}
